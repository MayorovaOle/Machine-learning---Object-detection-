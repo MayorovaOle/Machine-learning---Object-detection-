{
 "cells": [
  {
   "cell_type": "code",
   "execution_count": null,
   "id": "4da9d6f5",
   "metadata": {},
   "outputs": [
    {
     "name": "stdout",
     "output_type": "stream",
     "text": [
      "Found 54190 images belonging to 131 classes.\n",
      "Found 4481 images belonging to 131 classes.\n",
      "Epoch 1/10\n",
      " 444/1694 [======>.......................] - ETA: 40:30 - loss: 1.4781 - accuracy: 0.6302"
     ]
    }
   ],
   "source": [
    "import tensorflow as tf\n",
    "from tensorflow.keras.preprocessing.image import ImageDataGenerator\n",
    "\n",
    "# Создание объекта ImageDataGenerator для генерации изображений\n",
    "data_generator = ImageDataGenerator(rescale=1./255, validation_split=0.2)\n",
    "\n",
    "# Загрузка набора данных Fruits-360 и разделение его на тренировочный и тестовый наборы\n",
    "train_dataset = data_generator.flow_from_directory('fruits-360/Training', target_size=(224, 224), batch_size=32, subset='training')\n",
    "test_dataset = data_generator.flow_from_directory('fruits-360/Test', target_size=(224, 224), batch_size=32, subset='validation')\n",
    "\n",
    "# Создание модели\n",
    "model = tf.keras.Sequential([\n",
    "    tf.keras.layers.Conv2D(32, (3, 3), activation='relu', input_shape=(224, 224, 3)),\n",
    "    tf.keras.layers.MaxPooling2D((2, 2)),\n",
    "    tf.keras.layers.Conv2D(64, (3, 3), activation='relu'),\n",
    "    tf.keras.layers.MaxPooling2D((2, 2)),\n",
    "    tf.keras.layers.Conv2D(128, (3, 3), activation='relu'),\n",
    "    tf.keras.layers.MaxPooling2D((2, 2)),\n",
    "    tf.keras.layers.Conv2D(256, (3, 3), activation='relu'),\n",
    "    tf.keras.layers.MaxPooling2D((2, 2)),\n",
    "    tf.keras.layers.Flatten(),\n",
    "    tf.keras.layers.Dense(512, activation='relu'),\n",
    "    tf.keras.layers.Dropout(0.2),\n",
    "    tf.keras.layers.Dense(131, activation='softmax')\n",
    "])\n",
    "\n",
    "# Компиляция модели\n",
    "model.compile(optimizer='adam', loss='categorical_crossentropy', metrics=['accuracy'])\n",
    "\n",
    "# Обучение модели\n",
    "model.fit(train_dataset, epochs=10, validation_data=test_dataset)\n",
    "\n",
    "# Сохранение модели\n",
    "model.save('fruit_classifier.h5')"
   ]
  },
  {
   "cell_type": "code",
   "execution_count": null,
   "id": "7fa41e75",
   "metadata": {},
   "outputs": [],
   "source": [
    "import cv2\n",
    "import numpy as np\n",
    "import tensorflow as tf\n",
    "\n",
    "# Загрузка модели\n",
    "model = tf.keras.models.load_model('fruit_classifier.h5')\n",
    "\n",
    "# Настройки камеры\n",
    "cap = cv2.VideoCapture(0)  # Захват видео с первой камеры\n",
    "\n",
    "# Словарь с названиями фруктов и соответствующими им номерами классов\n",
    "class_names = {0: 'apple', 1: 'banana', 2: 'orange', 3: 'pear'}\n",
    "\n",
    "while True:\n",
    "    # Захват кадра из камеры\n",
    "    ret, frame = cap.read()\n",
    "\n",
    "    # Преобразование кадра в изображение, подходящее для входа в модель\n",
    "    img = cv2.resize(frame, (224, 224))\n",
    "    img = img.reshape(-1, 224, 224, 3)\n",
    "\n",
    "    # Прогнозирование класса\n",
    "    prediction = model.predict(img)[0]\n",
    "    class_index = tf.argmax(prediction).numpy()\n",
    "    class_name = class_names[class_index]\n",
    "\n",
    "    # Обнаружение объектов на кадре\n",
    "    hsv = cv2.cvtColor(frame, cv2.COLOR_BGR2HSV)\n",
    "    lower = np.array([25, 50, 50])\n",
    "    upper = np.array([65, 255, 255])\n",
    "    mask = cv2.inRange(hsv, lower, upper)\n",
    "    contours, hierarchy = cv2.findContours(mask, cv2.RETR_TREE, cv2.CHAIN_APPROX_SIMPLE)\n",
    "\n",
    "    # Рисуем контуры объектов на кадре и выводим названия фруктов\n",
    "    for i, contour in enumerate(contours):\n",
    "        area = cv2.contourArea(contour)\n",
    "        if area > 1000:\n",
    "            x, y, w, h = cv2.boundingRect(contour)\n",
    "            cv2.rectangle(frame, (x, y), (x + w, y + h), (0, 255, 0), 2)\n",
    "            cv2.putText(frame, class_name, (x, y - 10), cv2.FONT_HERSHEY_SIMPLEX, 0.9, (0, 255, 0), 2)\n",
    "\n",
    "    # Отображение кадра\n",
    "    cv2.imshow('Video', frame)\n",
    "\n",
    "    # Ожидание нажатия клавиши для выхода из программы\n",
    "    if cv2.waitKey(1) & 0xFF == ord('q'):\n",
    "        break\n",
    "\n",
    "# Освобождение ресурсов\n",
    "cap.release()\n",
    "cv2.destroyAllWindows()"
   ]
  }
 ],
 "metadata": {
  "kernelspec": {
   "display_name": "Python 3 (ipykernel)",
   "language": "python",
   "name": "python3"
  },
  "language_info": {
   "codemirror_mode": {
    "name": "ipython",
    "version": 3
   },
   "file_extension": ".py",
   "mimetype": "text/x-python",
   "name": "python",
   "nbconvert_exporter": "python",
   "pygments_lexer": "ipython3",
   "version": "3.7.9"
  }
 },
 "nbformat": 4,
 "nbformat_minor": 5
}
